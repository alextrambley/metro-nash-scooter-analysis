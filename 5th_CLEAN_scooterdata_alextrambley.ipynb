{
 "cells": [
  {
   "cell_type": "code",
   "execution_count": 1,
   "metadata": {},
   "outputs": [],
   "source": [
    "from shapely.geometry import Point\n",
    "import pandas as pd\n",
    "import geopandas as gpd\n",
    "import matplotlib.pyplot as plt\n",
    "import folium\n",
    "import numpy as np\n",
    "\n",
    "from math import radians\n",
    "from numpy import sin, cos, arcsin, sqrt\n",
    "from haversine import haversine, Unit\n",
    "\n",
    "from datetime import datetime\n",
    "from datetime import timedelta\n",
    "\n",
    "import seaborn as sns\n",
    "\n",
    "import pprint"
   ]
  },
  {
   "cell_type": "code",
   "execution_count": 2,
   "metadata": {},
   "outputs": [],
   "source": [
    "may = pd.read_pickle(\"data/may.pkl\")\n",
    "june = pd.read_pickle(\"data/june.pkl\")\n",
    "july = pd.read_pickle(\"data/july.pkl\")"
   ]
  },
  {
   "cell_type": "code",
   "execution_count": 5,
   "metadata": {},
   "outputs": [
    {
     "name": "stdout",
     "output_type": "stream",
     "text": [
      "<class 'pandas.core.frame.DataFrame'>\n",
      "Int64Index: 195840 entries, 0 to 224502\n",
      "Data columns (total 9 columns):\n",
      "companyName     195840 non-null object\n",
      "sumdID          195840 non-null object\n",
      "tripDuration    195840 non-null float64\n",
      "tripDistance    195840 non-null float64\n",
      "Month           195840 non-null int64\n",
      "Day             195840 non-null int64\n",
      "Hour            195840 non-null int64\n",
      "start_geo       195840 non-null object\n",
      "end_geo         195840 non-null object\n",
      "dtypes: float64(2), int64(3), object(4)\n",
      "memory usage: 14.9+ MB\n"
     ]
    }
   ],
   "source": [
    "may.info()"
   ]
  },
  {
   "cell_type": "code",
   "execution_count": 6,
   "metadata": {},
   "outputs": [],
   "source": [
    "all_months = pd.concat([may, june, july])"
   ]
  },
  {
   "cell_type": "code",
   "execution_count": 7,
   "metadata": {},
   "outputs": [
    {
     "data": {
      "text/html": [
       "<div>\n",
       "<style scoped>\n",
       "    .dataframe tbody tr th:only-of-type {\n",
       "        vertical-align: middle;\n",
       "    }\n",
       "\n",
       "    .dataframe tbody tr th {\n",
       "        vertical-align: top;\n",
       "    }\n",
       "\n",
       "    .dataframe thead th {\n",
       "        text-align: right;\n",
       "    }\n",
       "</style>\n",
       "<table border=\"1\" class=\"dataframe\">\n",
       "  <thead>\n",
       "    <tr style=\"text-align: right;\">\n",
       "      <th></th>\n",
       "      <th>companyName</th>\n",
       "      <th>sumdID</th>\n",
       "      <th>tripDuration</th>\n",
       "      <th>tripDistance</th>\n",
       "      <th>Month</th>\n",
       "      <th>Day</th>\n",
       "      <th>Hour</th>\n",
       "      <th>start_geo</th>\n",
       "      <th>end_geo</th>\n",
       "    </tr>\n",
       "  </thead>\n",
       "  <tbody>\n",
       "    <tr>\n",
       "      <th>0</th>\n",
       "      <td>Bird</td>\n",
       "      <td>Powered9EAJL</td>\n",
       "      <td>3.0</td>\n",
       "      <td>958.00528</td>\n",
       "      <td>5</td>\n",
       "      <td>1</td>\n",
       "      <td>0</td>\n",
       "      <td>POINT (-86.8036 36.1571)</td>\n",
       "      <td>POINT (-86.80670000000001 36.1566)</td>\n",
       "    </tr>\n",
       "  </tbody>\n",
       "</table>\n",
       "</div>"
      ],
      "text/plain": [
       "  companyName        sumdID  tripDuration  tripDistance  Month  Day  Hour  \\\n",
       "0        Bird  Powered9EAJL           3.0     958.00528      5    1     0   \n",
       "\n",
       "                  start_geo                             end_geo  \n",
       "0  POINT (-86.8036 36.1571)  POINT (-86.80670000000001 36.1566)  "
      ]
     },
     "execution_count": 7,
     "metadata": {},
     "output_type": "execute_result"
    }
   ],
   "source": [
    "all_months.head(1)"
   ]
  },
  {
   "cell_type": "code",
   "execution_count": 8,
   "metadata": {
    "scrolled": true
   },
   "outputs": [
    {
     "data": {
      "text/html": [
       "<div>\n",
       "<style scoped>\n",
       "    .dataframe tbody tr th:only-of-type {\n",
       "        vertical-align: middle;\n",
       "    }\n",
       "\n",
       "    .dataframe tbody tr th {\n",
       "        vertical-align: top;\n",
       "    }\n",
       "\n",
       "    .dataframe thead th {\n",
       "        text-align: right;\n",
       "    }\n",
       "</style>\n",
       "<table border=\"1\" class=\"dataframe\">\n",
       "  <thead>\n",
       "    <tr style=\"text-align: right;\">\n",
       "      <th></th>\n",
       "      <th>companyName</th>\n",
       "      <th>sumdID</th>\n",
       "      <th>tripDuration</th>\n",
       "      <th>tripDistance</th>\n",
       "      <th>Month</th>\n",
       "      <th>Day</th>\n",
       "      <th>Hour</th>\n",
       "      <th>start_geo</th>\n",
       "      <th>end_geo</th>\n",
       "    </tr>\n",
       "  </thead>\n",
       "  <tbody>\n",
       "    <tr>\n",
       "      <th>0</th>\n",
       "      <td>Bird</td>\n",
       "      <td>Powered9EAJL</td>\n",
       "      <td>3.0000</td>\n",
       "      <td>958.00528</td>\n",
       "      <td>5</td>\n",
       "      <td>1</td>\n",
       "      <td>0</td>\n",
       "      <td>POINT (-86.8036 36.1571)</td>\n",
       "      <td>POINT (-86.80670000000001 36.1566)</td>\n",
       "    </tr>\n",
       "    <tr>\n",
       "      <th>1</th>\n",
       "      <td>Lyft</td>\n",
       "      <td>Powered296631</td>\n",
       "      <td>1.7156</td>\n",
       "      <td>1371.39112</td>\n",
       "      <td>5</td>\n",
       "      <td>1</td>\n",
       "      <td>0</td>\n",
       "      <td>POINT (-86.77896 36.15797)</td>\n",
       "      <td>POINT (-86.77688999999999 36.16054)</td>\n",
       "    </tr>\n",
       "    <tr>\n",
       "      <th>2</th>\n",
       "      <td>Bird</td>\n",
       "      <td>Powered7S2UU</td>\n",
       "      <td>3.0000</td>\n",
       "      <td>2296.58800</td>\n",
       "      <td>5</td>\n",
       "      <td>1</td>\n",
       "      <td>0</td>\n",
       "      <td>POINT (-86.7818 36.1547)</td>\n",
       "      <td>POINT (-86.7868 36.1565)</td>\n",
       "    </tr>\n",
       "    <tr>\n",
       "      <th>3</th>\n",
       "      <td>Bird</td>\n",
       "      <td>PoweredZIIVX</td>\n",
       "      <td>3.0000</td>\n",
       "      <td>1200.78744</td>\n",
       "      <td>5</td>\n",
       "      <td>1</td>\n",
       "      <td>0</td>\n",
       "      <td>POINT (-86.7795 36.1494)</td>\n",
       "      <td>POINT (-86.7796 36.1531)</td>\n",
       "    </tr>\n",
       "    <tr>\n",
       "      <th>4</th>\n",
       "      <td>Bird</td>\n",
       "      <td>PoweredJ7MB3</td>\n",
       "      <td>2.0000</td>\n",
       "      <td>351.04988</td>\n",
       "      <td>5</td>\n",
       "      <td>1</td>\n",
       "      <td>0</td>\n",
       "      <td>POINT (-86.78660000000001 36.1778)</td>\n",
       "      <td>POINT (-86.7876 36.1774)</td>\n",
       "    </tr>\n",
       "  </tbody>\n",
       "</table>\n",
       "</div>"
      ],
      "text/plain": [
       "  companyName         sumdID  tripDuration  tripDistance  Month  Day  Hour  \\\n",
       "0        Bird   Powered9EAJL        3.0000     958.00528      5    1     0   \n",
       "1        Lyft  Powered296631        1.7156    1371.39112      5    1     0   \n",
       "2        Bird   Powered7S2UU        3.0000    2296.58800      5    1     0   \n",
       "3        Bird   PoweredZIIVX        3.0000    1200.78744      5    1     0   \n",
       "4        Bird   PoweredJ7MB3        2.0000     351.04988      5    1     0   \n",
       "\n",
       "                            start_geo                              end_geo  \n",
       "0            POINT (-86.8036 36.1571)   POINT (-86.80670000000001 36.1566)  \n",
       "1          POINT (-86.77896 36.15797)  POINT (-86.77688999999999 36.16054)  \n",
       "2            POINT (-86.7818 36.1547)             POINT (-86.7868 36.1565)  \n",
       "3            POINT (-86.7795 36.1494)             POINT (-86.7796 36.1531)  \n",
       "4  POINT (-86.78660000000001 36.1778)             POINT (-86.7876 36.1774)  "
      ]
     },
     "execution_count": 8,
     "metadata": {},
     "output_type": "execute_result"
    }
   ],
   "source": [
    "all_months.head()"
   ]
  },
  {
   "cell_type": "code",
   "execution_count": 9,
   "metadata": {
    "scrolled": false
   },
   "outputs": [
    {
     "data": {
      "text/plain": [
       "Poweredb671ffe4-2bca-5880-98ec-d36f65aa11a2     1752\n",
       "PoweredR3QXO6TL2HIAB                             369\n",
       "PoweredZ6HF5P5HCJCT5                             351\n",
       "PoweredRJ7YYJTHAR5N3                             336\n",
       "PoweredWVIAXNCVDNOXP                             334\n",
       "PoweredCL37MXJKM7RS5                             331\n",
       "PoweredAK442HUNLJ36S                             327\n",
       "Powered4ZPLZX2G755LW                             321\n",
       "PoweredQQOLTIYF2NHPZ                             312\n",
       "PoweredABMIE5RQM5MJ6                             305\n",
       "PoweredIFJIBG3QHYXWB                             305\n",
       "PoweredML52CTHQPHVSZ                             304\n",
       "PoweredWZLC7D3TEMPS2                             304\n",
       "PoweredZ654BJZPRPNXC                             303\n",
       "PoweredME7IR625ZUUBP                             300\n",
       "Powered5BW4GPYGBMUTL                             296\n",
       "PoweredTVZN3QVMMQ5UK                             293\n",
       "PoweredXZH7USFBU76DX                             292\n",
       "PoweredSQWMJWTIGM6DS                             288\n",
       "PoweredYNW4O7K6MWVLD                             285\n",
       "PoweredTJKT7B3Y3JSDE                             283\n",
       "PoweredPDGQQ2VKBRR6N                             283\n",
       "PoweredJLTNICE7DQVPU                             282\n",
       "PoweredJTXV42MMK5N2K                             282\n",
       "PoweredVBP67J666ZNEH                             279\n",
       "PoweredZ5IMPCBKO5P7E                             276\n",
       "PoweredAKWXXWK3HB2WC                             276\n",
       "PoweredQDVYGLDL6ZQDU                             274\n",
       "PoweredEGRN7CFK6Q6K2                             273\n",
       "Powered3ZPCHCTLNK2WR                             271\n",
       "                                                ... \n",
       "PoweredSWYPW                                       1\n",
       "Powered6RTNK                                       1\n",
       "Powered-6d5f2148-5553-ed1a-e151-346ab20c6733       1\n",
       "PoweredH5738                                       1\n",
       "Powered943be44e-ebf0-595f-bfc6-d9632b4d1376        1\n",
       "PoweredP715R                                       1\n",
       "Powered71b585a8-11c5-54bc-b097-413b74ec95e0        1\n",
       "PoweredZ69UM                                       1\n",
       "Powered-55c83dac-fbe3-5cdd-9bce-615988c03525       1\n",
       "PoweredSILMHFH47KBX2                               1\n",
       "PoweredW7MV5NKAW7EZN                               1\n",
       "PoweredVZ7E3                                       1\n",
       "Powered-f63b8989-6b47-bda7-522a-5b4feea22493       1\n",
       "Powered14UIL                                       1\n",
       "Powered-912e704f-b9f8-ae2c-09f2-6cf66ab468a8       1\n",
       "Powered3F3VK                                       1\n",
       "Powered-53e87a1c-c935-8ef1-aec5-91ea276cd5ab       1\n",
       "Powered342003                                      1\n",
       "Powered874462                                      1\n",
       "PoweredJMSWT                                       1\n",
       "Powered-0cf6fb25-5afa-09e8-004a-aefd4e320266       1\n",
       "PoweredTLBL3BYW4WKCP                               1\n",
       "Powered-dd368f22-dc98-0f73-297a-728d981fff99       1\n",
       "PoweredYTT8X                                       1\n",
       "PoweredJJWV4IOV7I3J5                               1\n",
       "Powered2641d885-ccff-5371-a76a-21042d1f038d        1\n",
       "Powered-27981186-27f4-1a19-23ae-f0623ce566ae       1\n",
       "PoweredI53LW                                       1\n",
       "PoweredS7BJL                                       1\n",
       "Powered-52aafe89-a695-dfd2-1859-d14bc075d1b8       1\n",
       "Name: sumdID, Length: 8745, dtype: int64"
      ]
     },
     "execution_count": 9,
     "metadata": {},
     "output_type": "execute_result"
    }
   ],
   "source": [
    "pd.value_counts(all_months.sumdID)"
   ]
  },
  {
   "cell_type": "code",
   "execution_count": 10,
   "metadata": {},
   "outputs": [
    {
     "data": {
      "text/plain": [
       "Lime             208551\n",
       "Lyft             110662\n",
       "Bird              91677\n",
       "SPIN              33162\n",
       "JUMP               5960\n",
       "Gotcha             2685\n",
       "Bolt Mobility       593\n",
       "Name: companyName, dtype: int64"
      ]
     },
     "execution_count": 10,
     "metadata": {},
     "output_type": "execute_result"
    }
   ],
   "source": [
    "pd.value_counts(all_months.companyName)"
   ]
  },
  {
   "cell_type": "code",
   "execution_count": 11,
   "metadata": {
    "scrolled": true
   },
   "outputs": [
    {
     "data": {
      "text/plain": [
       "453290"
      ]
     },
     "execution_count": 11,
     "metadata": {},
     "output_type": "execute_result"
    }
   ],
   "source": [
    "sum(pd.value_counts(all_months.companyName))"
   ]
  },
  {
   "cell_type": "markdown",
   "metadata": {},
   "source": [
    "# Creating individual data frames for each company for each month"
   ]
  },
  {
   "cell_type": "code",
   "execution_count": 12,
   "metadata": {},
   "outputs": [],
   "source": [
    "def companies(df):\n",
    "    \"\"\"This will import csv files, create datetime columns, filter data, remove unecessary columns, create a unique month df.\"\"\"\n",
    "    \n",
    "    #establishing the capability to assign to a variable\n",
    "    global lime_may\n",
    "    global bird_may\n",
    "    global lyft_may\n",
    "    global jump_may\n",
    "    global spin_may\n",
    "    global gotcha_may\n",
    "    global bolt_may\n",
    "    \n",
    "    global lime_june\n",
    "    global bird_june\n",
    "    global lyft_june\n",
    "    global jump_june\n",
    "    global spin_june\n",
    "    global gotcha_june\n",
    "    global bolt_june\n",
    "    \n",
    "    global lime_july\n",
    "    global bird_july\n",
    "    global lyft_july\n",
    "    global jump_july\n",
    "    global spin_july\n",
    "    global gotcha_july\n",
    "    global bolt_july\n",
    "\n",
    "    #creating the MAY variable data frames\n",
    "    lime_may = df.loc[(df.companyName == 'Lime') & (df.Month == 5)]\n",
    "    bird_may = df.loc[(df.companyName == 'Bird') & (df.Month == 5)]\n",
    "    lyft_may = df.loc[(df.companyName == 'Lyft') & (df.Month == 5)]\n",
    "    jump_may = df.loc[(df.companyName == 'JUMP') & (df.Month == 5)]\n",
    "    spin_may = df.loc[(df.companyName == 'SPIN') & (df.Month == 5)]\n",
    "    gotcha_may = df.loc[(df.companyName == 'Gotcha') & (df.Month == 5)]\n",
    "    bolt_may = df.loc[(df.companyName == 'Bolt Mobility') & (df.Month == 5)]\n",
    "    \n",
    "    #creating the June variable data frames\n",
    "    lime_june = df.loc[(df.companyName == 'Lime') & (df.Month == 6)]\n",
    "    bird_june = df.loc[(df.companyName == 'Bird') & (df.Month == 6)]\n",
    "    lyft_june = df.loc[(df.companyName == 'Lyft') & (df.Month == 6)]\n",
    "    jump_june = df.loc[(df.companyName == 'JUMP') & (df.Month == 6)]\n",
    "    spin_june = df.loc[(df.companyName == 'SPIN') & (df.Month == 6)]\n",
    "    gotcha_june = df.loc[(df.companyName == 'Gotcha') & (df.Month == 6)]\n",
    "    bolt_june = df.loc[(df.companyName == 'Bolt Mobility') & (df.Month == 6)]\n",
    "    \n",
    "    #creating the MAY variable data frames\n",
    "    lime_july = df.loc[(df.companyName == 'Lime') & (df.Month == 7)]\n",
    "    bird_july = df.loc[(df.companyName == 'Bird') & (df.Month == 7)]\n",
    "    lyft_july = df.loc[(df.companyName == 'Lyft') & (df.Month == 7)]\n",
    "    jump_july = df.loc[(df.companyName == 'JUMP') & (df.Month == 7)]\n",
    "    spin_july = df.loc[(df.companyName == 'SPIN') & (df.Month == 7)]\n",
    "    gotcha_july = df.loc[(df.companyName == 'Gotcha') & (df.Month == 7)]\n",
    "    bolt_july = df.loc[(df.companyName == 'Bolt Mobility') & (df.Month == 7)]"
   ]
  },
  {
   "cell_type": "code",
   "execution_count": 13,
   "metadata": {},
   "outputs": [],
   "source": [
    "companies(all_months)"
   ]
  },
  {
   "cell_type": "markdown",
   "metadata": {},
   "source": [
    "# Creating a function that will check each individual COMPANY data frame and calculate the average number of rides for the month as well as the number of scooters that averaged more than 3 rides per day"
   ]
  },
  {
   "cell_type": "code",
   "execution_count": 14,
   "metadata": {},
   "outputs": [],
   "source": [
    "def company_counts(month, company_name, df):\n",
    "    #company ride average and ride_counts per month\n",
    "    \n",
    "    if month == 'May':\n",
    "        id_counts = pd.value_counts(df.sumdID)/31\n",
    "    \n",
    "    elif month == 'June':\n",
    "        id_counts = pd.value_counts(df.sumdID)/30\n",
    "    \n",
    "    elif month == 'July':\n",
    "        id_counts = pd.value_counts(df.sumdID)/31\n",
    "    \n",
    "    id_average = sum(id_counts) / len(id_counts)\n",
    "    \n",
    "    return pd.value_counts(id_counts > 3), print(company_name + \"'s average rides per scooter during the month of \" \n",
    "                                                 + month + \" = \", id_average)"
   ]
  },
  {
   "cell_type": "code",
   "execution_count": 15,
   "metadata": {
    "scrolled": false
   },
   "outputs": [
    {
     "name": "stdout",
     "output_type": "stream",
     "text": [
      "Bird's average rides per scooter during the month of July =  0.28410536395730046\n"
     ]
    },
    {
     "data": {
      "text/plain": [
       "(False    2257\n",
       " Name: sumdID, dtype: int64, None)"
      ]
     },
     "execution_count": 15,
     "metadata": {},
     "output_type": "execute_result"
    }
   ],
   "source": [
    "company_counts('July', 'Bird', bird_july)"
   ]
  },
  {
   "cell_type": "markdown",
   "metadata": {},
   "source": [
    "### Defining and running company average per scooter"
   ]
  },
  {
   "cell_type": "code",
   "execution_count": 16,
   "metadata": {},
   "outputs": [],
   "source": [
    "def company_average(month, df):\n",
    "    #company ride average per month\n",
    "    \n",
    "    if month == 'May':\n",
    "        id_counts = pd.value_counts(df.sumdID)/31\n",
    "    \n",
    "    elif month == 'June':\n",
    "        id_counts = pd.value_counts(df.sumdID)/30\n",
    "    \n",
    "    elif month == 'July':\n",
    "        id_counts = pd.value_counts(df.sumdID)/31\n",
    "    \n",
    "    id_average = sum(id_counts) / len(id_counts)\n",
    "    \n",
    "    return id_average"
   ]
  },
  {
   "cell_type": "code",
   "execution_count": 17,
   "metadata": {
    "scrolled": true
   },
   "outputs": [
    {
     "data": {
      "text/plain": [
       "0.28410536395730046"
      ]
     },
     "execution_count": 17,
     "metadata": {},
     "output_type": "execute_result"
    }
   ],
   "source": [
    "company_average('July', bird_july)"
   ]
  },
  {
   "cell_type": "code",
   "execution_count": 18,
   "metadata": {},
   "outputs": [],
   "source": [
    "def company_avg_pct(month, df):\n",
    "    #global ride_counts\n",
    "    \n",
    "    if month == 'may':\n",
    "        id_counts = pd.value_counts(df.sumdID)/31\n",
    "    \n",
    "    elif month == 'june':\n",
    "        id_counts = pd.value_counts(df.sumdID)/30\n",
    "    \n",
    "    elif month == 'july':\n",
    "        id_counts = pd.value_counts(df.sumdID)/31\n",
    "    \n",
    "    id_avg_pct = len(id_counts[id_counts > 3]) / len(id_counts) * 100\n",
    "    \n",
    "    return id_avg_pct"
   ]
  },
  {
   "cell_type": "code",
   "execution_count": 19,
   "metadata": {},
   "outputs": [
    {
     "data": {
      "text/plain": [
       "6.086956521739131"
      ]
     },
     "execution_count": 19,
     "metadata": {},
     "output_type": "execute_result"
    }
   ],
   "source": [
    "company_avg_pct('july', lime_july)"
   ]
  },
  {
   "cell_type": "code",
   "execution_count": 20,
   "metadata": {},
   "outputs": [],
   "source": [
    "lime_pct = [(company_avg_pct('may', lime_may)), (company_avg_pct('june', lime_june)), (company_avg_pct('july', lime_july))]\n",
    "lyft_pct = [(company_avg_pct('may', lyft_may)), (company_avg_pct('june', lyft_june)), (company_avg_pct('july', lyft_july))]\n",
    "bird_pct = [(company_avg_pct('may', bird_may)), (company_avg_pct('june', bird_june)), (company_avg_pct('july', bird_july))]\n",
    "spin_pct = [(company_avg_pct('may', spin_may)), (company_avg_pct('june', spin_june)), (company_avg_pct('july', spin_july))]\n",
    "jump_pct = [(company_avg_pct('may', jump_may)), (company_avg_pct('june', jump_june)), (company_avg_pct('july', jump_july))]\n",
    "gotcha_pct = [(company_avg_pct('may', gotcha_may)), (company_avg_pct('june', gotcha_june)), (company_avg_pct('july', gotcha_july))]\n",
    "bolt_pct = [(company_avg_pct('may', bolt_may)), (company_avg_pct('june', bolt_june)), (company_avg_pct('july', bolt_july))]"
   ]
  },
  {
   "cell_type": "code",
   "execution_count": 21,
   "metadata": {},
   "outputs": [],
   "source": [
    "def print_list(*args):        \n",
    "    for arg in args:\n",
    "        print(arg)"
   ]
  },
  {
   "cell_type": "code",
   "execution_count": 22,
   "metadata": {},
   "outputs": [
    {
     "name": "stdout",
     "output_type": "stream",
     "text": [
      "Lime \n",
      "18.61057998725303\n",
      "13.812544045102184\n",
      "6.086956521739131\n",
      "Lyft \n",
      "0.0\n",
      "0.0\n",
      "0.0\n",
      "Bird\n",
      "0.0\n",
      "0.0\n",
      "0.0\n",
      "Spin\n",
      "0.0\n",
      "0.0\n",
      "0.0\n",
      "Jump\n",
      "100.0\n",
      "0.6329113924050633\n",
      "0.0\n",
      "Gotcha\n",
      "0.0\n",
      "0.0\n",
      "0.0\n",
      "Bolt\n",
      "0.0\n",
      "0.0\n",
      "0.0\n"
     ]
    }
   ],
   "source": [
    "print_list(\"Lime \", *lime_pct, \"Lyft \", *lyft_pct, \"Bird\", *bird_pct, \"Spin\", *spin_pct, \"Jump\", *jump_pct, \"Gotcha\", *gotcha_pct, \"Bolt\", *bolt_pct)"
   ]
  },
  {
   "cell_type": "markdown",
   "metadata": {},
   "source": [
    "# Creating functions that will calculate the average number of rides per scooter per month across all companies, and the number of scooters that gave at least 3 rides per day"
   ]
  },
  {
   "cell_type": "code",
   "execution_count": 23,
   "metadata": {},
   "outputs": [],
   "source": [
    "def month_counts(month, df):\n",
    "    #global ride_counts\n",
    "    \n",
    "    if month == 'may':\n",
    "        id_counts = pd.value_counts(df.sumdID)/31\n",
    "    \n",
    "    elif month == 'june':\n",
    "        id_counts = pd.value_counts(df.sumdID)/30\n",
    "    \n",
    "    elif month == 'july':\n",
    "        id_counts = pd.value_counts(df.sumdID)/31\n",
    "    \n",
    "    id_average = sum(id_counts) / len(id_counts)\n",
    "    \n",
    "    return pd.value_counts(id_counts > 3), print(month + \"'s average rides per scooter =\", id_average)"
   ]
  },
  {
   "cell_type": "code",
   "execution_count": 24,
   "metadata": {
    "scrolled": true
   },
   "outputs": [
    {
     "name": "stdout",
     "output_type": "stream",
     "text": [
      "july's average rides per scooter = 0.6024280530841339\n"
     ]
    },
    {
     "data": {
      "text/plain": [
       "(False    5143\n",
       " True       49\n",
       " Name: sumdID, dtype: int64, None)"
      ]
     },
     "execution_count": 24,
     "metadata": {},
     "output_type": "execute_result"
    }
   ],
   "source": [
    "month_counts('july', july)"
   ]
  },
  {
   "cell_type": "markdown",
   "metadata": {},
   "source": [
    "### Defining and running function to determine average rides per month"
   ]
  },
  {
   "cell_type": "code",
   "execution_count": 25,
   "metadata": {},
   "outputs": [],
   "source": [
    "def month_average(month, df):\n",
    "    #global ride_counts\n",
    "    \n",
    "    if month == 'may':\n",
    "        id_counts = pd.value_counts(df.sumdID)/31\n",
    "    \n",
    "    elif month == 'june':\n",
    "        id_counts = pd.value_counts(df.sumdID)/30\n",
    "    \n",
    "    elif month == 'july':\n",
    "        id_counts = pd.value_counts(df.sumdID)/31\n",
    "    \n",
    "    id_average = sum(id_counts) / len(id_counts)\n",
    "    \n",
    "    return id_average"
   ]
  },
  {
   "cell_type": "code",
   "execution_count": 31,
   "metadata": {},
   "outputs": [],
   "source": [
    "month_avgs = {month_average('may', may), month_average('june', june), month_average('july', july)}"
   ]
  },
  {
   "cell_type": "code",
   "execution_count": 35,
   "metadata": {},
   "outputs": [
    {
     "name": "stdout",
     "output_type": "stream",
     "text": [
      "{0.9573298007029275, 0.8382325289878111, 0.6024280530841339}\n"
     ]
    }
   ],
   "source": [
    "print(month_avgs)"
   ]
  },
  {
   "cell_type": "code",
   "execution_count": 34,
   "metadata": {},
   "outputs": [
    {
     "data": {
      "text/plain": [
       "0.7993301275916241"
      ]
     },
     "execution_count": 34,
     "metadata": {},
     "output_type": "execute_result"
    }
   ],
   "source": [
    "sum(month_avgs)/3"
   ]
  },
  {
   "cell_type": "markdown",
   "metadata": {},
   "source": [
    "### Defining and running function to calculate the percentage of scooters in a given month that averaged more than 2 rides per day"
   ]
  },
  {
   "cell_type": "code",
   "execution_count": 26,
   "metadata": {},
   "outputs": [],
   "source": [
    "def month_avg_pct(month, df):\n",
    "    #global ride_counts\n",
    "    \n",
    "    if month == 'may':\n",
    "        id_counts = pd.value_counts(df.sumdID)/31\n",
    "    \n",
    "    elif month == 'june':\n",
    "        id_counts = pd.value_counts(df.sumdID)/30\n",
    "    \n",
    "    elif month == 'july':\n",
    "        id_counts = pd.value_counts(df.sumdID)/31\n",
    "    \n",
    "    id_avg_pct = len(id_counts[id_counts > 3]) / len(id_counts) * 100\n",
    "    \n",
    "    return id_avg_pct"
   ]
  },
  {
   "cell_type": "code",
   "execution_count": 27,
   "metadata": {
    "scrolled": true
   },
   "outputs": [
    {
     "data": {
      "text/plain": [
       "4.440066676769208"
      ]
     },
     "execution_count": 27,
     "metadata": {},
     "output_type": "execute_result"
    }
   ],
   "source": [
    "month_avg_pct('may', may)"
   ]
  },
  {
   "cell_type": "code",
   "execution_count": null,
   "metadata": {},
   "outputs": [],
   "source": [
    "may_pct = month_avg_pct('may', may)\n",
    "june_pct = month_avg_pct('june', june)\n",
    "july_pct = month_avg_pct('july', july)"
   ]
  },
  {
   "cell_type": "code",
   "execution_count": null,
   "metadata": {},
   "outputs": [],
   "source": [
    "may_avg = month_average('may', may)\n",
    "june_avg = month_average('june', june)\n",
    "july_avg = month_average('july', july)\n",
    "\n",
    "avg_list = [may_avg, june_avg, july_avg]"
   ]
  },
  {
   "cell_type": "code",
   "execution_count": null,
   "metadata": {},
   "outputs": [],
   "source": [
    "plt.hist(avg_list, facecolor='blue', alpha=0.5)\n",
    "plt.show()"
   ]
  },
  {
   "cell_type": "code",
   "execution_count": null,
   "metadata": {},
   "outputs": [],
   "source": [
    "avg_list"
   ]
  }
 ],
 "metadata": {
  "kernelspec": {
   "display_name": "Python 3",
   "language": "python",
   "name": "python3"
  },
  "language_info": {
   "codemirror_mode": {
    "name": "ipython",
    "version": 3
   },
   "file_extension": ".py",
   "mimetype": "text/x-python",
   "name": "python",
   "nbconvert_exporter": "python",
   "pygments_lexer": "ipython3",
   "version": "3.7.3"
  }
 },
 "nbformat": 4,
 "nbformat_minor": 2
}
