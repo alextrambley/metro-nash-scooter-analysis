{
 "cells": [
  {
   "cell_type": "markdown",
   "metadata": {},
   "source": [
    "Function Library"
   ]
  },
  {
   "cell_type": "code",
   "execution_count": 1,
   "metadata": {},
   "outputs": [],
   "source": [
    "def unique_company(df):\n",
    "    \"\"\"Finds all unique company names and creates seperate dataframes.\"\"\"\n",
    "    \n",
    "    #variable calls \n",
    "    global lyft_df\n",
    "    global bird_df\n",
    "    global gotcha_df\n",
    "    global spin_df\n",
    "    global bolt_df\n",
    "    global lime_df\n",
    "    global jump_df\n",
    "    \n",
    "    #saving new df to variables\n",
    "    lyft_df = df.loc[df.companyName == \"Lyft\"]\n",
    "    bird_df = df.loc[df.companyName == \"Bird\"]\n",
    "    gotcha_df = df.loc[df.companyName == \"Gotcha\"]\n",
    "    spin_df = df.loc[df.companyName == \"SPIN\"]\n",
    "    bolt_df = df.loc[df.companyName == \"Bolt Mobility\"]\n",
    "    lime_df = df.loc[df.companyName == \"Lime\"]\n",
    "    jump_df = df.loc[df.companyName == \"JUMP\"]"
   ]
  },
  {
   "cell_type": "code",
   "execution_count": 6,
   "metadata": {},
   "outputs": [],
   "source": [
    "def unique_scooter_ID(month, df):\n",
    "    \"\"\"Find unique scooter count per dataframe\"\"\"\n",
    "    global unique\n",
    "    \n",
    "    if month == 'scooter_months':\n",
    "        unique = pd.value_counts(df.sumdID)/ 93\n",
    "    \n",
    "    elif month == 'may':\n",
    "        unique = pd.value_counts(df.sumdID)/31\n",
    "        \n",
    "    elif month == 'june':\n",
    "        unique = pd.value_counts(df.sumdID)/30\n",
    "    \n",
    "    elif month == 'july':\n",
    "        unique = pd.value_counts(df.sumdID)/31\n",
    "    \n",
    "    elif month == 'august':\n",
    "        unique = pd.value_counts(df.sumdID)/1\n",
    "        \n",
    "    id_average = sum(unique)/len(unique)\n",
    "        \n",
    "    return pd.value_counts(unique >= 3), print(month + \"'s average amount of rides per scooter\", id_average)\n",
    "    "
   ]
  },
  {
   "cell_type": "code",
   "execution_count": 12,
   "metadata": {},
   "outputs": [],
   "source": [
    "scooter_number = pd.value_counts(scooter_months.sumdID)"
   ]
  },
  {
   "cell_type": "code",
   "execution_count": 13,
   "metadata": {},
   "outputs": [],
   "source": [
    "id_average = len(scooter_number)/sum(scooter_number)"
   ]
  },
  {
   "cell_type": "code",
   "execution_count": 14,
   "metadata": {},
   "outputs": [
    {
     "data": {
      "text/plain": [
       "0.018611767277251445"
      ]
     },
     "execution_count": 14,
     "metadata": {},
     "output_type": "execute_result"
    }
   ],
   "source": [
    "id_average"
   ]
  },
  {
   "cell_type": "code",
   "execution_count": 237,
   "metadata": {},
   "outputs": [
    {
     "data": {
      "text/plain": [
       "0.033862564507765626"
      ]
     },
     "execution_count": 237,
     "metadata": {},
     "output_type": "execute_result"
    }
   ],
   "source": [
    "company_average_scooter(may)"
   ]
  },
  {
   "cell_type": "markdown",
   "metadata": {},
   "source": [
    "Start of Notebook"
   ]
  },
  {
   "cell_type": "code",
   "execution_count": 4,
   "metadata": {},
   "outputs": [],
   "source": [
    "import pandas as pd\n",
    "import geopandas as gpd\n",
    "import numpy as np\n",
    "import matplotlib as plt\n",
    "from shapely.geometry import Point"
   ]
  },
  {
   "cell_type": "code",
   "execution_count": 5,
   "metadata": {},
   "outputs": [],
   "source": [
    "may = pd.read_pickle('Data/may.pkl')\n",
    "june = pd.read_pickle('Data/june.pkl')\n",
    "july = pd.read_pickle('Data/july.pkl')\n",
    "august = pd.read_pickle('Data/august.pkl')\n"
   ]
  },
  {
   "cell_type": "code",
   "execution_count": 8,
   "metadata": {},
   "outputs": [],
   "source": [
    "scooter_months = pd.concat([may,june,july,august])"
   ]
  },
  {
   "cell_type": "code",
   "execution_count": 11,
   "metadata": {},
   "outputs": [
    {
     "name": "stdout",
     "output_type": "stream",
     "text": [
      "july's average amount of rides per scooter 0.6221680069877261\n"
     ]
    },
    {
     "data": {
      "text/plain": [
       "(False    5298\n",
       " True       57\n",
       " Name: sumdID, dtype: int64, None)"
      ]
     },
     "execution_count": 11,
     "metadata": {},
     "output_type": "execute_result"
    }
   ],
   "source": [
    "unique_scooter_ID('july',july)"
   ]
  },
  {
   "cell_type": "code",
   "execution_count": null,
   "metadata": {},
   "outputs": [],
   "source": []
  }
 ],
 "metadata": {
  "kernelspec": {
   "display_name": "Python 3",
   "language": "python",
   "name": "python3"
  },
  "language_info": {
   "codemirror_mode": {
    "name": "ipython",
    "version": 3
   },
   "file_extension": ".py",
   "mimetype": "text/x-python",
   "name": "python",
   "nbconvert_exporter": "python",
   "pygments_lexer": "ipython3",
   "version": "3.7.3"
  }
 },
 "nbformat": 4,
 "nbformat_minor": 2
}
