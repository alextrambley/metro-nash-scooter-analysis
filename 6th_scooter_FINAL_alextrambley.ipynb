{
 "cells": [
  {
   "cell_type": "code",
   "execution_count": 1,
   "metadata": {},
   "outputs": [],
   "source": [
    "from shapely.geometry import Point\n",
    "import pandas as pd\n",
    "import geopandas as gpd\n",
    "import matplotlib.pyplot as plt\n",
    "import folium\n",
    "import numpy as np\n",
    "\n",
    "from math import radians\n",
    "from numpy import sin, cos, arcsin, sqrt\n",
    "from haversine import haversine, Unit\n",
    "\n",
    "from datetime import datetime\n",
    "from datetime import timedelta"
   ]
  },
  {
   "cell_type": "code",
   "execution_count": 2,
   "metadata": {},
   "outputs": [],
   "source": [
    "# may_trips = pd.read_csv('data/may_trip.csv')\n",
    "# june_trips = pd.read_csv('data/june_trip.csv')\n",
    "# july_trips = pd.read_csv('data/july_trip.csv')"
   ]
  },
  {
   "cell_type": "code",
   "execution_count": 3,
   "metadata": {
    "scrolled": true
   },
   "outputs": [],
   "source": [
    "# july_trips.head()"
   ]
  },
  {
   "cell_type": "code",
   "execution_count": 4,
   "metadata": {},
   "outputs": [],
   "source": [
    "# july_trips.tripDistance.head(20)"
   ]
  },
  {
   "cell_type": "code",
   "execution_count": 5,
   "metadata": {},
   "outputs": [],
   "source": [
    "# july_trips.shape"
   ]
  },
  {
   "cell_type": "code",
   "execution_count": 42,
   "metadata": {},
   "outputs": [],
   "source": [
    "def month_cleaner(month):\n",
    "   \"\"\"This will import csv files, create datetime columns, filter data, remove unecessary columns, create a unique month df.\"\"\"\n",
    "\n",
    "   #read in csv:\n",
    "   csv = pd.read_csv('Data/' + str(month)+ '_trip.csv')\n",
    "\n",
    "   #create datetime columns\n",
    "   csv['pubTimeStamp'] = pd.to_datetime(csv.pubTimeStamp)\n",
    "   csv['Month'] = csv.pubTimeStamp.dt.month\n",
    "   csv['Day'] = csv.pubTimeStamp.dt.day\n",
    "   csv['Hour'] = csv.pubTimeStamp.dt.hour\n",
    "    \n",
    "   #filter columns\n",
    "   csv = csv.loc[(csv.tripDuration > 1) & (csv.tripDuration < 120)]\n",
    "   csv = csv.loc[(csv.tripDistance > 1) & (csv.tripDistance < 26400)]\n",
    "\n",
    "   #create geometry column\n",
    "   csv['start_geo'] = csv.apply(lambda x: Point((float(x.startLongitude    ), float(x.startLatitude))), axis=1)\n",
    "   csv['end_geo'] = csv.apply(lambda x: Point((float(x.endLongitude    ), float(x.endLatitude))), axis=1)\n",
    "    \n",
    "   #drop unecessary columns\n",
    "   csv = csv.drop(['pubTimeStamp', 'tripRecordNum', 'tripRoute', 'startDate', 'startTime', 'endDate', 'endTime', 'create_dt',\n",
    "                   'startLatitude', 'startLongitude','endLatitude', 'startLongitude', 'endLongitude'], axis=1)\n",
    "    \n",
    "   #create unique monthly dataframes\n",
    "   if str(month) == 'may':\n",
    "       global may\n",
    "       may = csv.loc[csv.Month == 5]\n",
    "   if str(month) == 'june':\n",
    "       global june\n",
    "       june = csv.loc[csv.Month == 6]\n",
    "   if str(month) == 'july':\n",
    "       global july\n",
    "       global august\n",
    "       july = csv.loc[csv.Month == 7]\n",
    "       august = csv.loc[csv.Month == 8]"
   ]
  },
  {
   "cell_type": "code",
   "execution_count": 44,
   "metadata": {},
   "outputs": [],
   "source": [
    "month_cleaner('may')\n",
    "month_cleaner('june')\n",
    "month_cleaner('july')"
   ]
  },
  {
   "cell_type": "code",
   "execution_count": 45,
   "metadata": {
    "scrolled": true
   },
   "outputs": [],
   "source": [
    "# may.head(3)"
   ]
  },
  {
   "cell_type": "code",
   "execution_count": 46,
   "metadata": {},
   "outputs": [],
   "source": [
    "may.to_pickle(\"data/may.pkl\")\n",
    "june.to_pickle(\"data/june.pkl\")\n",
    "july.to_pickle(\"data/july.pkl\")"
   ]
  },
  {
   "cell_type": "code",
   "execution_count": 10,
   "metadata": {},
   "outputs": [],
   "source": [
    "# july_trips = july_trips.loc[july_trips['tripDistance'] > 1]\n",
    "# may_trips = may_trips.loc[may_trips['tripDistance'] > 1]\n",
    "# june_trips = june_trips.loc[june_trips['tripDistance'] > 1]"
   ]
  },
  {
   "cell_type": "code",
   "execution_count": 11,
   "metadata": {},
   "outputs": [],
   "source": [
    "# july_trips = july_trips.loc[(july_trips['tripDuration'] > 1) & (july_trips['tripDuration'] < 1440)]\n",
    "# may_trips = may_trips.loc[(may_trips['tripDuration'] > 1) & (may_trips['tripDuration'] < 1440)]\n",
    "# june_trips = june_trips.loc[(june_trips['tripDuration'] > 1) & (june_trips['tripDuration'] < 1440)]"
   ]
  },
  {
   "cell_type": "code",
   "execution_count": 12,
   "metadata": {},
   "outputs": [],
   "source": [
    "# july_trips.shape"
   ]
  },
  {
   "cell_type": "code",
   "execution_count": 13,
   "metadata": {},
   "outputs": [],
   "source": [
    "# may_trips.shape"
   ]
  },
  {
   "cell_type": "code",
   "execution_count": 14,
   "metadata": {},
   "outputs": [],
   "source": [
    "# june_trips.shape"
   ]
  },
  {
   "cell_type": "code",
   "execution_count": 15,
   "metadata": {},
   "outputs": [],
   "source": [
    "# pd.value_counts(july_trips.companyName)"
   ]
  },
  {
   "cell_type": "code",
   "execution_count": 16,
   "metadata": {
    "scrolled": true
   },
   "outputs": [],
   "source": [
    "# july_trips.describe()"
   ]
  },
  {
   "cell_type": "code",
   "execution_count": 17,
   "metadata": {},
   "outputs": [],
   "source": [
    "# july_trips.info()"
   ]
  },
  {
   "cell_type": "code",
   "execution_count": 18,
   "metadata": {},
   "outputs": [],
   "source": [
    "# may_trips['startDate'] = pd.to_datetime(may_trips['startDate'])\n",
    "# may_trips['startTime'] = pd.to_datetime(may_trips['startTime'])\n",
    "# june_trips['startDate'] = pd.to_datetime(june_trips['startDate'])\n",
    "# june_trips['startTime'] = pd.to_datetime(june_trips['startTime'])\n",
    "# july_trips['startDate'] = pd.to_datetime(july_trips['startDate'])\n",
    "# july_trips['startTime'] = pd.to_datetime(july_trips['startTime'])\n",
    "# #\n",
    "# may_trips['endDate'] = pd.to_datetime(may_trips['endDate'])\n",
    "# may_trips['endTime'] = pd.to_datetime(may_trips['endTime'])\n",
    "# june_trips['endDate'] = pd.to_datetime(june_trips['endDate'])\n",
    "# june_trips['endTime'] = pd.to_datetime(june_trips['endTime'])\n",
    "# july_trips['endDate'] = pd.to_datetime(july_trips['endDate'])\n",
    "# july_trips['endTime'] = pd.to_datetime(july_trips['endTime'])"
   ]
  },
  {
   "cell_type": "code",
   "execution_count": 19,
   "metadata": {},
   "outputs": [],
   "source": [
    "# may_trips['start_day'] = may_trips.startDate.dt.day\n",
    "# may_trips['start_month'] = may_trips.startDate.dt.month\n",
    "# may_trips['start_hour'] = may_trips.startTime.dt.hour\n",
    "# #\n",
    "# june_trips['start_day'] = june_trips.startDate.dt.day\n",
    "# june_trips['start_month'] = june_trips.startDate.dt.month\n",
    "# june_trips['start_hour'] = june_trips.startTime.dt.hour\n",
    "# #\n",
    "# july_trips['start_day'] = july_trips.startDate.dt.day\n",
    "# july_trips['start_month'] = july_trips.startDate.dt.month\n",
    "# july_trips['start_hour'] = july_trips.startTime.dt.hour\n",
    "# #\n",
    "# #\n",
    "# may_trips['end_day'] = may_trips.endDate.dt.day\n",
    "# may_trips['end_month'] = may_trips.endDate.dt.month\n",
    "# may_trips['end_hour'] = may_trips.endTime.dt.hour\n",
    "# #\n",
    "# june_trips['end_day'] = june_trips.endDate.dt.day\n",
    "# june_trips['end_month'] = june_trips.endDate.dt.month\n",
    "# june_trips['end_hour'] = june_trips.endTime.dt.hour\n",
    "# #\n",
    "# july_trips['end_day'] = july_trips.endDate.dt.day\n",
    "# july_trips['end_month'] = july_trips.endDate.dt.month\n",
    "# july_trips['end_hour'] = july_trips.endTime.dt.hour"
   ]
  },
  {
   "cell_type": "code",
   "execution_count": 20,
   "metadata": {
    "scrolled": true
   },
   "outputs": [],
   "source": [
    "# may_trips.head(1)"
   ]
  },
  {
   "cell_type": "code",
   "execution_count": 21,
   "metadata": {},
   "outputs": [],
   "source": [
    "# may_trips['start_loc'] = list(zip(may_trips.startLatitude, may_trips.startLongitude))\n",
    "# may_trips['end_loc'] = list(zip(may_trips.endLatitude, may_trips.endLongitude))\n",
    "# #\n",
    "# june_trips['start_loc'] = list(zip(june_trips.startLatitude, june_trips.startLongitude))\n",
    "# june_trips['end_loc'] = list(zip(june_trips.endLatitude, june_trips.endLongitude))\n",
    "# #\n",
    "# july_trips['start_loc'] = list(zip(july_trips.startLatitude, july_trips.startLongitude))\n",
    "# july_trips['end_loc'] = list(zip(july_trips.endLatitude, july_trips.endLongitude))"
   ]
  },
  {
   "cell_type": "code",
   "execution_count": 22,
   "metadata": {},
   "outputs": [],
   "source": [
    "# may_trips.head(1)"
   ]
  },
  {
   "cell_type": "code",
   "execution_count": 23,
   "metadata": {},
   "outputs": [],
   "source": [
    "# may_trips = may_trips.to_pickle(\"data/may_trips.pkl\")"
   ]
  },
  {
   "cell_type": "code",
   "execution_count": 24,
   "metadata": {},
   "outputs": [],
   "source": [
    "# june_trips = june_trips.to_pickle(\"data/june_trips.pkl\")"
   ]
  },
  {
   "cell_type": "code",
   "execution_count": 25,
   "metadata": {},
   "outputs": [],
   "source": [
    "# july_trips = july_trips.to_pickle(\"data/july_trips.pkl\")"
   ]
  },
  {
   "cell_type": "code",
   "execution_count": 26,
   "metadata": {},
   "outputs": [],
   "source": [
    "# may_trips = pd.read_pickle(\"data/may_trips.pkl\")\n",
    "# june_trips = pd.read_pickle(\"data/june_trips.pkl\")\n",
    "# july_trips = pd.read_pickle(\"data/july_trips.pkl\")"
   ]
  },
  {
   "cell_type": "code",
   "execution_count": 27,
   "metadata": {},
   "outputs": [],
   "source": [
    "# may_trips.columns"
   ]
  },
  {
   "cell_type": "code",
   "execution_count": 28,
   "metadata": {},
   "outputs": [],
   "source": [
    "# may_trips = may_trips.drop(columns = ['pubTimeStamp', 'startDate', 'startTime', 'endDate', 'endTime', 'startLatitude', \n",
    "#                                       'startLongitude', 'endLatitude', 'endLongitude', 'tripRoute', 'create_dt'])\n",
    "\n",
    "# june_trips = june_trips.drop(columns = ['pubTimeStamp', 'startDate', 'startTime', 'endDate', 'endTime', 'startLatitude', \n",
    "#                                       'startLongitude', 'endLatitude', 'endLongitude', 'tripRoute', 'create_dt'])\n",
    "\n",
    "# july_trips = july_trips.drop(columns = ['pubTimeStamp', 'startDate', 'startTime', 'endDate', 'endTime', 'startLatitude', \n",
    "#                                       'startLongitude', 'endLatitude', 'endLongitude', 'tripRoute', 'create_dt'])"
   ]
  },
  {
   "cell_type": "code",
   "execution_count": 29,
   "metadata": {},
   "outputs": [],
   "source": [
    "# may_trips.shape"
   ]
  },
  {
   "cell_type": "code",
   "execution_count": 30,
   "metadata": {},
   "outputs": [],
   "source": [
    "# all_scooters = pd.concat([may_trips,june_trips,july_trips])"
   ]
  },
  {
   "cell_type": "code",
   "execution_count": 31,
   "metadata": {},
   "outputs": [],
   "source": [
    "# all_scooters.shape"
   ]
  },
  {
   "cell_type": "code",
   "execution_count": 32,
   "metadata": {},
   "outputs": [],
   "source": [
    "# all_scooters['pubTimeStamp'] = pd.to_datetime(all_scooters['pubTimeStamp'])"
   ]
  },
  {
   "cell_type": "code",
   "execution_count": 33,
   "metadata": {},
   "outputs": [],
   "source": [
    "# all_scooters.info()"
   ]
  },
  {
   "cell_type": "code",
   "execution_count": 34,
   "metadata": {},
   "outputs": [],
   "source": [
    "# all_scooters['day'] = all_scooters.pubTimeStamp.dt.day\n",
    "# all_scooters['month'] = all_scooters.pubTimeStamp.dt.month\n",
    "# all_scooters['hour'] = all_scooters.pubTimeStamp.dt.hour"
   ]
  },
  {
   "cell_type": "code",
   "execution_count": 35,
   "metadata": {
    "scrolled": true
   },
   "outputs": [],
   "source": [
    "# all_scooters.tail(10)"
   ]
  },
  {
   "cell_type": "code",
   "execution_count": 36,
   "metadata": {},
   "outputs": [],
   "source": [
    "# all_scooters.pubTimeStamp.nunique()"
   ]
  },
  {
   "cell_type": "code",
   "execution_count": 37,
   "metadata": {},
   "outputs": [],
   "source": [
    "# all_scooters.tripRecordNum.nunique()"
   ]
  },
  {
   "cell_type": "code",
   "execution_count": 38,
   "metadata": {},
   "outputs": [],
   "source": [
    "# all_scooters.loc[all_scooters.tripRecordNum == 'BOL00001']"
   ]
  },
  {
   "cell_type": "code",
   "execution_count": 39,
   "metadata": {},
   "outputs": [],
   "source": [
    "# july_trips = july_trips.assign(month='July')"
   ]
  },
  {
   "cell_type": "code",
   "execution_count": 40,
   "metadata": {
    "scrolled": true
   },
   "outputs": [],
   "source": [
    "# july_trips.head()"
   ]
  },
  {
   "cell_type": "code",
   "execution_count": null,
   "metadata": {},
   "outputs": [],
   "source": []
  },
  {
   "cell_type": "code",
   "execution_count": 41,
   "metadata": {},
   "outputs": [],
   "source": [
    "# july_trips['day'] = july.pubTimeStamp.dt.day"
   ]
  }
 ],
 "metadata": {
  "kernelspec": {
   "display_name": "Python 3",
   "language": "python",
   "name": "python3"
  },
  "language_info": {
   "codemirror_mode": {
    "name": "ipython",
    "version": 3
   },
   "file_extension": ".py",
   "mimetype": "text/x-python",
   "name": "python",
   "nbconvert_exporter": "python",
   "pygments_lexer": "ipython3",
   "version": "3.7.3"
  }
 },
 "nbformat": 4,
 "nbformat_minor": 2
}
