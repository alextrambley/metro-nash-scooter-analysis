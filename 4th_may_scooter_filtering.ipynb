{
 "cells": [
  {
   "cell_type": "code",
   "execution_count": 1,
   "metadata": {},
   "outputs": [],
   "source": [
    "from shapely.geometry import Point\n",
    "import pandas as pd\n",
    "import geopandas as gpd\n",
    "import matplotlib.pyplot as plt\n",
    "import folium\n",
    "import numpy as np\n",
    "\n",
    "from math import radians\n",
    "from numpy import sin, cos, arcsin, sqrt\n",
    "from haversine import haversine, Unit\n",
    "\n",
    "from datetime import datetime\n",
    "from datetime import timedelta"
   ]
  },
  {
   "cell_type": "code",
   "execution_count": 2,
   "metadata": {},
   "outputs": [],
   "source": [
    "# may_scooters_df = pd.read_csv('./data/may.csv')"
   ]
  },
  {
   "cell_type": "code",
   "execution_count": 3,
   "metadata": {},
   "outputs": [],
   "source": [
    "# may_scooters_df.shape"
   ]
  },
  {
   "cell_type": "code",
   "execution_count": 4,
   "metadata": {},
   "outputs": [],
   "source": [
    "# may_scooters_df = may_scooters_df[~may_scooters_df.sumdgroup.str.contains(\"bicycle\")]"
   ]
  },
  {
   "cell_type": "code",
   "execution_count": 5,
   "metadata": {},
   "outputs": [],
   "source": [
    "# may_scooters_df.shape"
   ]
  },
  {
   "cell_type": "code",
   "execution_count": 6,
   "metadata": {},
   "outputs": [],
   "source": [
    "# may_scooters_df['pubdatetime'] = pd.to_datetime(may_scooters_df['pubdatetime'])"
   ]
  },
  {
   "cell_type": "code",
   "execution_count": 7,
   "metadata": {},
   "outputs": [],
   "source": [
    "# may_scooters_df.info()"
   ]
  },
  {
   "cell_type": "code",
   "execution_count": 8,
   "metadata": {
    "scrolled": true
   },
   "outputs": [],
   "source": [
    "# may_scooters_df.head(1)"
   ]
  },
  {
   "cell_type": "code",
   "execution_count": 9,
   "metadata": {},
   "outputs": [],
   "source": [
    "# may_scooters_df = may_scooters_df.sort_values(by = ['sumdid', 'pubdatetime'])\n",
    "\n",
    "# # may_scooters_df.sort_values(['pubdatetime','sumdid'],ascending=False).groupby('sumdid').head(3)\n",
    "\n",
    "# # may_scooters_df.apply(lambda may_scooters_df: may_scooters_df.sort_values(by=['sumdid'])"
   ]
  },
  {
   "cell_type": "code",
   "execution_count": 10,
   "metadata": {},
   "outputs": [],
   "source": [
    "# may_scooters_df.shape"
   ]
  },
  {
   "cell_type": "code",
   "execution_count": 11,
   "metadata": {},
   "outputs": [],
   "source": [
    "# may_scooters_df['elapsed_time'] = may_scooters_df.pubdatetime.diff()"
   ]
  },
  {
   "cell_type": "code",
   "execution_count": 12,
   "metadata": {},
   "outputs": [],
   "source": [
    "# may_scooters_df.head(10)"
   ]
  },
  {
   "cell_type": "code",
   "execution_count": 13,
   "metadata": {},
   "outputs": [],
   "source": [
    "# may_scooters_df['date'] = may_scooters_df['pubdatetime'].dt.date\n",
    "# may_scooters_df['time'] = may_scooters_df['pubdatetime'].dt.time"
   ]
  },
  {
   "cell_type": "code",
   "execution_count": 14,
   "metadata": {},
   "outputs": [],
   "source": [
    "# may_scooters_df.head(1)"
   ]
  },
  {
   "cell_type": "code",
   "execution_count": 15,
   "metadata": {
    "scrolled": true
   },
   "outputs": [],
   "source": [
    "# # Here is how to go about getting time in total_seconds\n",
    "# may_scooters_df['time_between'] = pd.to_timedelta(may_scooters_df['elapsed_time'].astype(str))\n",
    "\n",
    "# # and then\n",
    "# may_scooters_df['mins_elapsed']= may_scooters_df['time_between'].dt.total_seconds()/60"
   ]
  },
  {
   "cell_type": "code",
   "execution_count": 16,
   "metadata": {
    "scrolled": false
   },
   "outputs": [],
   "source": [
    "# may_scooters_df.head(1)"
   ]
  },
  {
   "cell_type": "code",
   "execution_count": 17,
   "metadata": {},
   "outputs": [],
   "source": [
    "# may_scooters_df.loc[(may_scooters_df[\"sumdid\"] == 'PoweredLIRL1')]"
   ]
  },
  {
   "cell_type": "code",
   "execution_count": 18,
   "metadata": {},
   "outputs": [],
   "source": [
    "# may_scooters_timefilter = may_scooters_df.loc[(may_scooters_df[\"mins_elapsed\"] >= 6) & \n",
    "#                          (may_scooters_df[\"mins_elapsed\"] <= 180)]"
   ]
  },
  {
   "cell_type": "code",
   "execution_count": 19,
   "metadata": {
    "scrolled": true
   },
   "outputs": [],
   "source": [
    "# may_scooters_timefilter.info()"
   ]
  },
  {
   "cell_type": "code",
   "execution_count": 20,
   "metadata": {},
   "outputs": [],
   "source": [
    "# may_scooters_timefilter = may_scooters_timefilter.to_pickle(\"data/may_scooters_timefilter.pkl\")"
   ]
  },
  {
   "cell_type": "code",
   "execution_count": 21,
   "metadata": {},
   "outputs": [],
   "source": [
    "# may_scooters_timefilter = pd.read_pickle(\"data/may_scooters_timefilter.pkl\")"
   ]
  },
  {
   "cell_type": "code",
   "execution_count": 22,
   "metadata": {},
   "outputs": [],
   "source": [
    "# may_scooters_timefilter['geometry'] = may_scooters_timefilter.apply(lambda x: \n",
    "#                                                                     Point((float(x.longitude), float(x.latitude))), axis =1)"
   ]
  },
  {
   "cell_type": "code",
   "execution_count": 23,
   "metadata": {},
   "outputs": [],
   "source": [
    "# may_scooters_timefilter = gpd.GeoDataFrame(may_scooters_timefilter, \n",
    "#                                            crs = {'init': 'epsg = 4326'}, geometry = may_scooters_timefilter.geometry)"
   ]
  },
  {
   "cell_type": "code",
   "execution_count": 24,
   "metadata": {},
   "outputs": [],
   "source": [
    "# may_scooters_timefilter.crs = {'init': 'epsg:4326'}"
   ]
  },
  {
   "cell_type": "code",
   "execution_count": 25,
   "metadata": {},
   "outputs": [],
   "source": [
    "# may_scooters_timefilter.geometry = may_scooters_timefilter.geometry.to_crs(epsg = 3857)\n",
    "# may_scooters_timefilter.head()"
   ]
  },
  {
   "cell_type": "code",
   "execution_count": 26,
   "metadata": {},
   "outputs": [],
   "source": [
    "# may_scooters_timefilter['dist'] = may_scooters_timefilter.geometry.distance(may_scooters_timefilter.geometry.shift())\n",
    "# may_scooters_timefilter.crs"
   ]
  },
  {
   "cell_type": "code",
   "execution_count": 27,
   "metadata": {},
   "outputs": [],
   "source": [
    "# may_scooters_timefilter.head(3)"
   ]
  },
  {
   "cell_type": "code",
   "execution_count": 28,
   "metadata": {},
   "outputs": [],
   "source": [
    "# may_scooters_allfilter = may_scooters_timefilter[~(may_scooters_timefilter['dist'] < 10)]"
   ]
  },
  {
   "cell_type": "code",
   "execution_count": 29,
   "metadata": {},
   "outputs": [],
   "source": [
    "# may_scooters_allfilter.info()"
   ]
  },
  {
   "cell_type": "code",
   "execution_count": 30,
   "metadata": {},
   "outputs": [],
   "source": [
    "# may_scooters_allfilter = may_scooters_allfilter.to_pickle(\"data/may_scooters_allfilter.pkl\")"
   ]
  },
  {
   "cell_type": "code",
   "execution_count": 31,
   "metadata": {},
   "outputs": [],
   "source": [
    "may_scooters_allfilter = pd.read_pickle(\"data/may_scooters_allfilter.pkl\")"
   ]
  },
  {
   "cell_type": "code",
   "execution_count": 36,
   "metadata": {},
   "outputs": [],
   "source": [
    "may_scooters_allfilter = may_scooters_allfilter[~(may_scooters_allfilter['dist'] < 30)]"
   ]
  },
  {
   "cell_type": "code",
   "execution_count": 37,
   "metadata": {},
   "outputs": [
    {
     "data": {
      "text/plain": [
       "(281060, 16)"
      ]
     },
     "execution_count": 37,
     "metadata": {},
     "output_type": "execute_result"
    }
   ],
   "source": [
    "may_scooters_allfilter.shape"
   ]
  },
  {
   "cell_type": "code",
   "execution_count": null,
   "metadata": {},
   "outputs": [],
   "source": []
  }
 ],
 "metadata": {
  "kernelspec": {
   "display_name": "Python 3",
   "language": "python",
   "name": "python3"
  },
  "language_info": {
   "codemirror_mode": {
    "name": "ipython",
    "version": 3
   },
   "file_extension": ".py",
   "mimetype": "text/x-python",
   "name": "python",
   "nbconvert_exporter": "python",
   "pygments_lexer": "ipython3",
   "version": "3.7.3"
  }
 },
 "nbformat": 4,
 "nbformat_minor": 2
}
