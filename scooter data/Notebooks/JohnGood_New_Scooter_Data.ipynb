{
 "cells": [
  {
   "cell_type": "markdown",
   "metadata": {},
   "source": [
    "#### <font color = gray> Broke down all files into pickle, then realized i shouldve filtered out the data with the large concatenated file. Currently filtering and then will resume with individual pickle month files."
   ]
  },
  {
   "cell_type": "markdown",
   "metadata": {},
   "source": [
    "Importing Packages and Files."
   ]
  },
  {
   "cell_type": "code",
   "execution_count": 103,
   "metadata": {},
   "outputs": [],
   "source": [
    "import pandas as pd\n",
    "import geopandas as gpd\n",
    "import numpy as np\n",
    "import matplotlib as plt\n",
    "from shapely.geometry import Point"
   ]
  },
  {
   "cell_type": "code",
   "execution_count": 2,
   "metadata": {},
   "outputs": [],
   "source": [
    "# june = pd.read_csv(\"Data/june_trip.csv\")\n",
    "# may = pd.read_csv(\"Data/may_trip.csv\")\n",
    "# july = pd.read_csv(\"Data/july_trip.csv\")"
   ]
  },
  {
   "cell_type": "code",
   "execution_count": 105,
   "metadata": {},
   "outputs": [],
   "source": [
    "# june.to_pickle(\"Data/june.pkl\")\n",
    "# july.to_pickle(\"Data/july.pkl\")\n",
    "# may.to_pickle(\"Data/may.pkl\")\n",
    "# august.to_pickle(\"Data/august.pkl\")"
   ]
  },
  {
   "cell_type": "code",
   "execution_count": 106,
   "metadata": {},
   "outputs": [],
   "source": [
    "# june = pd.read_pickle(\"Data/june.pkl\")\n",
    "# may = pd.read_pickle(\"Data/may.pkl\")\n",
    "# july = pd.read_pickle(\"Data/july.pkl\")\n",
    "# august = pd.read_pickle(\"Data/august.pkl\")"
   ]
  },
  {
   "cell_type": "markdown",
   "metadata": {},
   "source": [
    "Creating unique month dataframes with custom function"
   ]
  },
  {
   "cell_type": "code",
   "execution_count": 114,
   "metadata": {},
   "outputs": [],
   "source": [
    "def month_cleaner(month):\n",
    "    \"\"\"This will import csv files, create datetime columns, filter data, remove unecessary columns, create a unique month df.\"\"\"\n",
    "    \n",
    "    #read in csv:\n",
    "    csv = pd.read_csv('Data/' + str(month)+ '_trip.csv')\n",
    "            \n",
    "    #create datetime columns\n",
    "    csv['pubTimeStamp'] = pd.to_datetime(csv.pubTimeStamp)\n",
    "    csv['Month'] = csv.pubTimeStamp.dt.month\n",
    "    csv['Day'] = csv.pubTimeStamp.dt.day\n",
    "    csv['Hour'] = csv.pubTimeStamp.dt.hour\n",
    "    \n",
    "    #filter columns\n",
    "    csv = csv.loc[(csv.tripDuration > 1) & (csv.tripDuration < 1440)]\n",
    "    csv = csv.loc[(csv.tripDistance > 1)]\n",
    "    \n",
    "    #create geometry column\n",
    "    csv['start_geo'] = csv.apply(lambda x: Point((float(x.startLatitude\t), float(x.startLongitude))), axis=1)\n",
    "    csv['end_geo'] = csv.apply(lambda x: Point((float(x.startLatitude\t), float(x.startLongitude))), axis=1)\n",
    "\n",
    "    \n",
    "    #drop unecessary columns\n",
    "    csv = csv.drop(['pubTimeStamp', 'tripRoute', 'create_dt','startLatitude','startLongitude','endLatitude','startLongitude', 'endLongitude'], axis=1)\n",
    "    \n",
    "    #create unique monthly dataframes\n",
    "    if str(month) == 'may':\n",
    "        global may\n",
    "        may = csv.loc[csv.Month == 5]\n",
    "        \n",
    "    \n",
    "    if str(month) == 'june':\n",
    "        global june\n",
    "        june = csv.loc[csv.Month == 6]\n",
    "        \n",
    "       \n",
    "    if str(month) == 'july':\n",
    "        global july\n",
    "        global august\n",
    "        july = csv.loc[csv.Month == 7]\n",
    "        august = csv.loc[csv.Month == 8]"
   ]
  },
  {
   "cell_type": "code",
   "execution_count": 115,
   "metadata": {},
   "outputs": [],
   "source": [
    "month_cleaner('may')"
   ]
  },
  {
   "cell_type": "code",
   "execution_count": 117,
   "metadata": {},
   "outputs": [],
   "source": [
    "month_cleaner('june')"
   ]
  },
  {
   "cell_type": "code",
   "execution_count": 118,
   "metadata": {},
   "outputs": [],
   "source": [
    "month_cleaner('july')"
   ]
  },
  {
   "cell_type": "markdown",
   "metadata": {},
   "source": [
    "Creating  a single concatenated file"
   ]
  },
  {
   "cell_type": "code",
   "execution_count": 119,
   "metadata": {},
   "outputs": [],
   "source": [
    "scooter_months = pd.concat([june,may,july,august])"
   ]
  },
  {
   "cell_type": "code",
   "execution_count": 120,
   "metadata": {},
   "outputs": [
    {
     "data": {
      "text/plain": [
       "(475828, 14)"
      ]
     },
     "execution_count": 120,
     "metadata": {},
     "output_type": "execute_result"
    }
   ],
   "source": [
    "scooter_months.shape"
   ]
  },
  {
   "cell_type": "markdown",
   "metadata": {},
   "source": [
    "Ready for mapping"
   ]
  },
  {
   "cell_type": "code",
   "execution_count": 44,
   "metadata": {},
   "outputs": [],
   "source": []
  }
 ],
 "metadata": {
  "kernelspec": {
   "display_name": "Python 3",
   "language": "python",
   "name": "python3"
  },
  "language_info": {
   "codemirror_mode": {
    "name": "ipython",
    "version": 3
   },
   "file_extension": ".py",
   "mimetype": "text/x-python",
   "name": "python",
   "nbconvert_exporter": "python",
   "pygments_lexer": "ipython3",
   "version": "3.7.3"
  }
 },
 "nbformat": 4,
 "nbformat_minor": 2
}
