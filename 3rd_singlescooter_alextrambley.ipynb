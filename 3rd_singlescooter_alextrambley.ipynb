{
 "cells": [
  {
   "cell_type": "code",
   "execution_count": 1,
   "metadata": {},
   "outputs": [],
   "source": [
    "from shapely.geometry import Point\n",
    "import pandas as pd\n",
    "import geopandas as gpd\n",
    "import matplotlib.pyplot as plt\n",
    "import folium\n",
    "import numpy as np\n",
    "\n",
    "from math import radians\n",
    "from numpy import sin, cos, arcsin, sqrt\n",
    "from haversine import haversine, Unit\n",
    "\n",
    "from datetime import datetime\n",
    "from datetime import timedelta"
   ]
  },
  {
   "cell_type": "markdown",
   "metadata": {},
   "source": [
    "# Reading in the data for one scooter"
   ]
  },
  {
   "cell_type": "code",
   "execution_count": 7,
   "metadata": {},
   "outputs": [],
   "source": [
    "singlescooter = pd.read_csv('./data/singlescooter.csv')"
   ]
  },
  {
   "cell_type": "code",
   "execution_count": 8,
   "metadata": {},
   "outputs": [
    {
     "data": {
      "text/html": [
       "<div>\n",
       "<style scoped>\n",
       "    .dataframe tbody tr th:only-of-type {\n",
       "        vertical-align: middle;\n",
       "    }\n",
       "\n",
       "    .dataframe tbody tr th {\n",
       "        vertical-align: top;\n",
       "    }\n",
       "\n",
       "    .dataframe thead th {\n",
       "        text-align: right;\n",
       "    }\n",
       "</style>\n",
       "<table border=\"1\" class=\"dataframe\">\n",
       "  <thead>\n",
       "    <tr style=\"text-align: right;\">\n",
       "      <th></th>\n",
       "      <th>pubdatetime</th>\n",
       "      <th>latitude</th>\n",
       "      <th>longitude</th>\n",
       "      <th>sumdid</th>\n",
       "      <th>sumdtype</th>\n",
       "      <th>chargelevel</th>\n",
       "      <th>sumdgroup</th>\n",
       "      <th>costpermin</th>\n",
       "      <th>companyname</th>\n",
       "      <th>date</th>\n",
       "      <th>time</th>\n",
       "      <th>elapsed_time</th>\n",
       "    </tr>\n",
       "  </thead>\n",
       "  <tbody>\n",
       "    <tr>\n",
       "      <th>0</th>\n",
       "      <td>2019-05-01 00:01:41.247</td>\n",
       "      <td>36.136822</td>\n",
       "      <td>-86.799877</td>\n",
       "      <td>PoweredLIRL1</td>\n",
       "      <td>Powered</td>\n",
       "      <td>93.0</td>\n",
       "      <td>scooter</td>\n",
       "      <td>0.0</td>\n",
       "      <td>Bird</td>\n",
       "      <td>2019-05-01</td>\n",
       "      <td>00:01:41.247000</td>\n",
       "      <td>NaN</td>\n",
       "    </tr>\n",
       "    <tr>\n",
       "      <th>1</th>\n",
       "      <td>2019-05-01 00:06:41.537</td>\n",
       "      <td>36.136822</td>\n",
       "      <td>-86.799877</td>\n",
       "      <td>PoweredLIRL1</td>\n",
       "      <td>Powered</td>\n",
       "      <td>93.0</td>\n",
       "      <td>scooter</td>\n",
       "      <td>0.0</td>\n",
       "      <td>Bird</td>\n",
       "      <td>2019-05-01</td>\n",
       "      <td>00:06:41.537000</td>\n",
       "      <td>0 days 00:05:00.290000000</td>\n",
       "    </tr>\n",
       "    <tr>\n",
       "      <th>2</th>\n",
       "      <td>2019-05-01 01:01:43.917</td>\n",
       "      <td>36.136751</td>\n",
       "      <td>-86.799921</td>\n",
       "      <td>PoweredLIRL1</td>\n",
       "      <td>Powered</td>\n",
       "      <td>92.0</td>\n",
       "      <td>scooter</td>\n",
       "      <td>0.0</td>\n",
       "      <td>Bird</td>\n",
       "      <td>2019-05-01</td>\n",
       "      <td>01:01:43.917000</td>\n",
       "      <td>0 days 00:55:02.380000000</td>\n",
       "    </tr>\n",
       "    <tr>\n",
       "      <th>3</th>\n",
       "      <td>2019-05-01 01:06:44.237</td>\n",
       "      <td>36.136751</td>\n",
       "      <td>-86.799921</td>\n",
       "      <td>PoweredLIRL1</td>\n",
       "      <td>Powered</td>\n",
       "      <td>92.0</td>\n",
       "      <td>scooter</td>\n",
       "      <td>0.0</td>\n",
       "      <td>Bird</td>\n",
       "      <td>2019-05-01</td>\n",
       "      <td>01:06:44.237000</td>\n",
       "      <td>0 days 00:05:00.320000000</td>\n",
       "    </tr>\n",
       "    <tr>\n",
       "      <th>4</th>\n",
       "      <td>2019-05-01 01:11:44.167</td>\n",
       "      <td>36.136751</td>\n",
       "      <td>-86.799921</td>\n",
       "      <td>PoweredLIRL1</td>\n",
       "      <td>Powered</td>\n",
       "      <td>92.0</td>\n",
       "      <td>scooter</td>\n",
       "      <td>0.0</td>\n",
       "      <td>Bird</td>\n",
       "      <td>2019-05-01</td>\n",
       "      <td>01:11:44.167000</td>\n",
       "      <td>0 days 00:04:59.930000000</td>\n",
       "    </tr>\n",
       "  </tbody>\n",
       "</table>\n",
       "</div>"
      ],
      "text/plain": [
       "               pubdatetime   latitude  longitude        sumdid sumdtype  \\\n",
       "0  2019-05-01 00:01:41.247  36.136822 -86.799877  PoweredLIRL1  Powered   \n",
       "1  2019-05-01 00:06:41.537  36.136822 -86.799877  PoweredLIRL1  Powered   \n",
       "2  2019-05-01 01:01:43.917  36.136751 -86.799921  PoweredLIRL1  Powered   \n",
       "3  2019-05-01 01:06:44.237  36.136751 -86.799921  PoweredLIRL1  Powered   \n",
       "4  2019-05-01 01:11:44.167  36.136751 -86.799921  PoweredLIRL1  Powered   \n",
       "\n",
       "   chargelevel sumdgroup  costpermin companyname        date             time  \\\n",
       "0         93.0   scooter         0.0        Bird  2019-05-01  00:01:41.247000   \n",
       "1         93.0   scooter         0.0        Bird  2019-05-01  00:06:41.537000   \n",
       "2         92.0   scooter         0.0        Bird  2019-05-01  01:01:43.917000   \n",
       "3         92.0   scooter         0.0        Bird  2019-05-01  01:06:44.237000   \n",
       "4         92.0   scooter         0.0        Bird  2019-05-01  01:11:44.167000   \n",
       "\n",
       "                elapsed_time  \n",
       "0                        NaN  \n",
       "1  0 days 00:05:00.290000000  \n",
       "2  0 days 00:55:02.380000000  \n",
       "3  0 days 00:05:00.320000000  \n",
       "4  0 days 00:04:59.930000000  "
      ]
     },
     "execution_count": 8,
     "metadata": {},
     "output_type": "execute_result"
    }
   ],
   "source": [
    "singlescooter.head()"
   ]
  },
  {
   "cell_type": "code",
   "execution_count": 9,
   "metadata": {},
   "outputs": [
    {
     "data": {
      "text/plain": [
       "(2859, 12)"
      ]
     },
     "execution_count": 9,
     "metadata": {},
     "output_type": "execute_result"
    }
   ],
   "source": [
    "singlescooter.shape"
   ]
  },
  {
   "cell_type": "markdown",
   "metadata": {},
   "source": [
    "### Converting all applicable columns to datetime format"
   ]
  },
  {
   "cell_type": "code",
   "execution_count": 7,
   "metadata": {},
   "outputs": [],
   "source": [
    "# singlescooter['pubdatetime'] = pd.to_datetime(singlescooter['pubdatetime'])"
   ]
  },
  {
   "cell_type": "code",
   "execution_count": 8,
   "metadata": {},
   "outputs": [],
   "source": [
    "# singlescooter['date'] = pd.to_datetime(singlescooter['date'])"
   ]
  },
  {
   "cell_type": "code",
   "execution_count": 9,
   "metadata": {},
   "outputs": [],
   "source": [
    "# singlescooter['time'] = pd.to_datetime(singlescooter['time'])"
   ]
  },
  {
   "cell_type": "code",
   "execution_count": 10,
   "metadata": {},
   "outputs": [],
   "source": [
    "# singlescooter['elapsed_time'] = pd.to_int(singlescooter['elapsed_time'])"
   ]
  },
  {
   "cell_type": "markdown",
   "metadata": {},
   "source": [
    "# Exporting the completed dataframe to a pickle file for easier read in/out"
   ]
  },
  {
   "cell_type": "code",
   "execution_count": 11,
   "metadata": {},
   "outputs": [],
   "source": [
    "# singlescooter = singlescooter.to_pickle(\"data/may.pkl\")"
   ]
  },
  {
   "cell_type": "code",
   "execution_count": 12,
   "metadata": {
    "scrolled": true
   },
   "outputs": [],
   "source": [
    "# singlescooter = pd.read_pickle(\"data/may.pkl\")"
   ]
  },
  {
   "cell_type": "markdown",
   "metadata": {},
   "source": [
    "### Adding a \"geometry\" column combining the latitude/longitude columns"
   ]
  },
  {
   "cell_type": "code",
   "execution_count": 13,
   "metadata": {},
   "outputs": [],
   "source": [
    "# singlescooter['geometry'] = singlescooter.apply(lambda x: Point((float(x.longitude), float(x.latitude))), axis =1)"
   ]
  },
  {
   "cell_type": "code",
   "execution_count": 14,
   "metadata": {},
   "outputs": [],
   "source": [
    "# singlescooter.head(1)"
   ]
  },
  {
   "cell_type": "markdown",
   "metadata": {},
   "source": [
    "### Creating a new dataframe that is a GeoPanda, reading in the CRS structre of \"4326\", which is a standard format for lat/long information"
   ]
  },
  {
   "cell_type": "code",
   "execution_count": 15,
   "metadata": {},
   "outputs": [],
   "source": [
    "# singlescooter_geo = gpd.GeoDataFrame(singlescooter, crs = {'init': 'epsg = 4326'}, geometry = singlescooter.geometry)"
   ]
  },
  {
   "cell_type": "code",
   "execution_count": 16,
   "metadata": {
    "scrolled": true
   },
   "outputs": [],
   "source": [
    "# type(singlescooter_geo)"
   ]
  },
  {
   "cell_type": "code",
   "execution_count": 17,
   "metadata": {
    "scrolled": false
   },
   "outputs": [],
   "source": [
    "# singlescooter_geo.head()"
   ]
  },
  {
   "cell_type": "markdown",
   "metadata": {},
   "source": [
    "### Verifying that the dataframe is under the correct EPSG format"
   ]
  },
  {
   "cell_type": "code",
   "execution_count": 18,
   "metadata": {},
   "outputs": [],
   "source": [
    "# singlescooter_geo.crs = {'init': 'epsg:4326'}"
   ]
  },
  {
   "cell_type": "markdown",
   "metadata": {},
   "source": [
    "### Converting the EPSG format to \"3857\" which is a format that is measured in meters instead of degrees"
   ]
  },
  {
   "cell_type": "code",
   "execution_count": 19,
   "metadata": {
    "scrolled": true
   },
   "outputs": [],
   "source": [
    "# singlescooter_geo.geometry = singlescooter_geo.geometry.to_crs(epsg = 3857)\n",
    "# singlescooter_geo.head()"
   ]
  },
  {
   "cell_type": "markdown",
   "metadata": {},
   "source": [
    "# Adding a \"dist\" column that calculates the distance from row 1 to row 2 (row 2 to row 3, etc. etc.) using the .shift() function to move from one row to the next, and the .distance() function to do the calculation"
   ]
  },
  {
   "cell_type": "code",
   "execution_count": 20,
   "metadata": {},
   "outputs": [],
   "source": [
    "# singlescooter_geo['dist'] = singlescooter_geo.geometry.distance(singlescooter_geo.geometry.shift())\n",
    "# singlescooter_geo.crs"
   ]
  },
  {
   "cell_type": "code",
   "execution_count": 21,
   "metadata": {},
   "outputs": [],
   "source": [
    "# singlescooter_geo.head()"
   ]
  },
  {
   "cell_type": "markdown",
   "metadata": {},
   "source": [
    "### Showing the description of values within the \"dist\" column"
   ]
  },
  {
   "cell_type": "code",
   "execution_count": 22,
   "metadata": {},
   "outputs": [],
   "source": [
    "# singlescooter_geo.dist.describe()"
   ]
  },
  {
   "cell_type": "code",
   "execution_count": 23,
   "metadata": {},
   "outputs": [],
   "source": [
    "# singlescooter_geo = singlescooter_geo.to_pickle(\"data/singlescooter_geo.pkl\")"
   ]
  },
  {
   "cell_type": "code",
   "execution_count": 24,
   "metadata": {},
   "outputs": [],
   "source": [
    "# singlescooter_geo = pd.read_pickle(\"data/singlescooter_geo.pkl\")\n",
    "# singlescooter_geo.shape"
   ]
  },
  {
   "cell_type": "code",
   "execution_count": 25,
   "metadata": {
    "scrolled": false
   },
   "outputs": [],
   "source": [
    "# singlescooter_geo.info()"
   ]
  },
  {
   "cell_type": "code",
   "execution_count": 26,
   "metadata": {},
   "outputs": [],
   "source": [
    "# # singlescooter_geo[~singlescooter_geo['dist'] < 10]\n",
    "# singlescooter_filter = singlescooter_geo[~(singlescooter_geo['dist'] < 10)]\n",
    "# # singlescooter_geo[[~singlescooter_geo['dist'] < 10], [~singlescooter_geo['dist'] > 10000]]\n",
    "# singlescooter_filter.head()"
   ]
  },
  {
   "cell_type": "code",
   "execution_count": 27,
   "metadata": {},
   "outputs": [],
   "source": [
    "# singlescooter_geo['mins_wait'] = singlescooter_geo['elapsed_time'].apply(lambda x: x.dt.total_seconds())"
   ]
  },
  {
   "cell_type": "code",
   "execution_count": 28,
   "metadata": {},
   "outputs": [],
   "source": [
    "# distance_calc = singlescooter.apply(lambda row: haversine(row.coordinate, row.coordinate, axis = 1))"
   ]
  },
  {
   "cell_type": "code",
   "execution_count": 29,
   "metadata": {},
   "outputs": [],
   "source": [
    "# # Here is how to go about getting time in total_seconds\n",
    "# singlescooter_filter['time_between'] = pd.to_timedelta(singlescooter_filter['elapsed_time'].astype(str))\n",
    "\n",
    "# # and then\n",
    "# singlescooter_filter['mins_elapsed']= singlescooter_filter['time_between'].dt.total_seconds()/60\n",
    "# singlescooter_filter.head(100)"
   ]
  },
  {
   "cell_type": "code",
   "execution_count": 30,
   "metadata": {},
   "outputs": [],
   "source": [
    "# singlescooter_filter = singlescooter_filter.to_pickle(\"data/singlescooter_filter.pkl\")"
   ]
  },
  {
   "cell_type": "code",
   "execution_count": 3,
   "metadata": {},
   "outputs": [],
   "source": [
    "singlescooter_filter = pd.read_pickle(\"data/singlescooter_filter.pkl\")"
   ]
  },
  {
   "cell_type": "code",
   "execution_count": 4,
   "metadata": {},
   "outputs": [
    {
     "data": {
      "text/html": [
       "<div>\n",
       "<style scoped>\n",
       "    .dataframe tbody tr th:only-of-type {\n",
       "        vertical-align: middle;\n",
       "    }\n",
       "\n",
       "    .dataframe tbody tr th {\n",
       "        vertical-align: top;\n",
       "    }\n",
       "\n",
       "    .dataframe thead th {\n",
       "        text-align: right;\n",
       "    }\n",
       "</style>\n",
       "<table border=\"1\" class=\"dataframe\">\n",
       "  <thead>\n",
       "    <tr style=\"text-align: right;\">\n",
       "      <th></th>\n",
       "      <th>pubdatetime</th>\n",
       "      <th>latitude</th>\n",
       "      <th>longitude</th>\n",
       "      <th>sumdid</th>\n",
       "      <th>sumdtype</th>\n",
       "      <th>chargelevel</th>\n",
       "      <th>sumdgroup</th>\n",
       "      <th>costpermin</th>\n",
       "      <th>companyname</th>\n",
       "      <th>date</th>\n",
       "      <th>time</th>\n",
       "      <th>elapsed_time</th>\n",
       "      <th>geometry</th>\n",
       "      <th>dist</th>\n",
       "      <th>time_between</th>\n",
       "      <th>mins_elapsed</th>\n",
       "    </tr>\n",
       "  </thead>\n",
       "  <tbody>\n",
       "    <tr>\n",
       "      <th>0</th>\n",
       "      <td>2019-05-01 00:01:41.247</td>\n",
       "      <td>36.136822</td>\n",
       "      <td>-86.799877</td>\n",
       "      <td>PoweredLIRL1</td>\n",
       "      <td>Powered</td>\n",
       "      <td>93.0</td>\n",
       "      <td>scooter</td>\n",
       "      <td>0.0</td>\n",
       "      <td>Bird</td>\n",
       "      <td>2019-05-01</td>\n",
       "      <td>2019-08-31 00:01:41.247</td>\n",
       "      <td>NaN</td>\n",
       "      <td>POINT (-9662518.108558778 4319464.236882115)</td>\n",
       "      <td>NaN</td>\n",
       "      <td>NaT</td>\n",
       "      <td>NaN</td>\n",
       "    </tr>\n",
       "    <tr>\n",
       "      <th>2</th>\n",
       "      <td>2019-05-01 01:01:43.917</td>\n",
       "      <td>36.136751</td>\n",
       "      <td>-86.799921</td>\n",
       "      <td>PoweredLIRL1</td>\n",
       "      <td>Powered</td>\n",
       "      <td>92.0</td>\n",
       "      <td>scooter</td>\n",
       "      <td>0.0</td>\n",
       "      <td>Bird</td>\n",
       "      <td>2019-05-01</td>\n",
       "      <td>2019-08-31 01:01:43.917</td>\n",
       "      <td>0 days 00:55:02.380000000</td>\n",
       "      <td>POINT (-9662523.006616373 4319454.450388775)</td>\n",
       "      <td>10.943785</td>\n",
       "      <td>00:55:02.380000</td>\n",
       "      <td>55.039667</td>\n",
       "    </tr>\n",
       "  </tbody>\n",
       "</table>\n",
       "</div>"
      ],
      "text/plain": [
       "              pubdatetime   latitude  longitude        sumdid sumdtype  \\\n",
       "0 2019-05-01 00:01:41.247  36.136822 -86.799877  PoweredLIRL1  Powered   \n",
       "2 2019-05-01 01:01:43.917  36.136751 -86.799921  PoweredLIRL1  Powered   \n",
       "\n",
       "   chargelevel sumdgroup  costpermin companyname       date  \\\n",
       "0         93.0   scooter         0.0        Bird 2019-05-01   \n",
       "2         92.0   scooter         0.0        Bird 2019-05-01   \n",
       "\n",
       "                     time               elapsed_time  \\\n",
       "0 2019-08-31 00:01:41.247                        NaN   \n",
       "2 2019-08-31 01:01:43.917  0 days 00:55:02.380000000   \n",
       "\n",
       "                                       geometry       dist    time_between  \\\n",
       "0  POINT (-9662518.108558778 4319464.236882115)        NaN             NaT   \n",
       "2  POINT (-9662523.006616373 4319454.450388775)  10.943785 00:55:02.380000   \n",
       "\n",
       "   mins_elapsed  \n",
       "0           NaN  \n",
       "2     55.039667  "
      ]
     },
     "execution_count": 4,
     "metadata": {},
     "output_type": "execute_result"
    }
   ],
   "source": [
    "singlescooter_filter.head(2)"
   ]
  },
  {
   "cell_type": "code",
   "execution_count": 6,
   "metadata": {},
   "outputs": [
    {
     "data": {
      "text/plain": [
       "(740, 16)"
      ]
     },
     "execution_count": 6,
     "metadata": {},
     "output_type": "execute_result"
    }
   ],
   "source": [
    "singlescooter_filter.shape"
   ]
  },
  {
   "cell_type": "code",
   "execution_count": 10,
   "metadata": {},
   "outputs": [],
   "source": [
    "singlescooter_filter = singlescooter_filter.drop(columns = ['pubdatetime', 'time_between'])"
   ]
  },
  {
   "cell_type": "code",
   "execution_count": 11,
   "metadata": {},
   "outputs": [
    {
     "data": {
      "text/html": [
       "<div>\n",
       "<style scoped>\n",
       "    .dataframe tbody tr th:only-of-type {\n",
       "        vertical-align: middle;\n",
       "    }\n",
       "\n",
       "    .dataframe tbody tr th {\n",
       "        vertical-align: top;\n",
       "    }\n",
       "\n",
       "    .dataframe thead th {\n",
       "        text-align: right;\n",
       "    }\n",
       "</style>\n",
       "<table border=\"1\" class=\"dataframe\">\n",
       "  <thead>\n",
       "    <tr style=\"text-align: right;\">\n",
       "      <th></th>\n",
       "      <th>latitude</th>\n",
       "      <th>longitude</th>\n",
       "      <th>sumdid</th>\n",
       "      <th>sumdtype</th>\n",
       "      <th>chargelevel</th>\n",
       "      <th>sumdgroup</th>\n",
       "      <th>costpermin</th>\n",
       "      <th>companyname</th>\n",
       "      <th>date</th>\n",
       "      <th>time</th>\n",
       "      <th>elapsed_time</th>\n",
       "      <th>geometry</th>\n",
       "      <th>dist</th>\n",
       "      <th>mins_elapsed</th>\n",
       "    </tr>\n",
       "  </thead>\n",
       "  <tbody>\n",
       "    <tr>\n",
       "      <th>0</th>\n",
       "      <td>36.136822</td>\n",
       "      <td>-86.799877</td>\n",
       "      <td>PoweredLIRL1</td>\n",
       "      <td>Powered</td>\n",
       "      <td>93.0</td>\n",
       "      <td>scooter</td>\n",
       "      <td>0.0</td>\n",
       "      <td>Bird</td>\n",
       "      <td>2019-05-01</td>\n",
       "      <td>2019-08-31 00:01:41.247</td>\n",
       "      <td>NaN</td>\n",
       "      <td>POINT (-9662518.108558778 4319464.236882115)</td>\n",
       "      <td>NaN</td>\n",
       "      <td>NaN</td>\n",
       "    </tr>\n",
       "    <tr>\n",
       "      <th>2</th>\n",
       "      <td>36.136751</td>\n",
       "      <td>-86.799921</td>\n",
       "      <td>PoweredLIRL1</td>\n",
       "      <td>Powered</td>\n",
       "      <td>92.0</td>\n",
       "      <td>scooter</td>\n",
       "      <td>0.0</td>\n",
       "      <td>Bird</td>\n",
       "      <td>2019-05-01</td>\n",
       "      <td>2019-08-31 01:01:43.917</td>\n",
       "      <td>0 days 00:55:02.380000000</td>\n",
       "      <td>POINT (-9662523.006616373 4319454.450388775)</td>\n",
       "      <td>10.943785</td>\n",
       "      <td>55.039667</td>\n",
       "    </tr>\n",
       "  </tbody>\n",
       "</table>\n",
       "</div>"
      ],
      "text/plain": [
       "    latitude  longitude        sumdid sumdtype  chargelevel sumdgroup  \\\n",
       "0  36.136822 -86.799877  PoweredLIRL1  Powered         93.0   scooter   \n",
       "2  36.136751 -86.799921  PoweredLIRL1  Powered         92.0   scooter   \n",
       "\n",
       "   costpermin companyname       date                    time  \\\n",
       "0         0.0        Bird 2019-05-01 2019-08-31 00:01:41.247   \n",
       "2         0.0        Bird 2019-05-01 2019-08-31 01:01:43.917   \n",
       "\n",
       "                elapsed_time                                      geometry  \\\n",
       "0                        NaN  POINT (-9662518.108558778 4319464.236882115)   \n",
       "2  0 days 00:55:02.380000000  POINT (-9662523.006616373 4319454.450388775)   \n",
       "\n",
       "        dist  mins_elapsed  \n",
       "0        NaN           NaN  \n",
       "2  10.943785     55.039667  "
      ]
     },
     "execution_count": 11,
     "metadata": {},
     "output_type": "execute_result"
    }
   ],
   "source": [
    "singlescooter_filter.head(2)"
   ]
  },
  {
   "cell_type": "code",
   "execution_count": 14,
   "metadata": {},
   "outputs": [],
   "source": [
    "singlescooter_final = singlescooter_filter.loc[(singlescooter_filter[\"dist\"] > 10) & \n",
    "                         (singlescooter_filter[\"mins_elapsed\"] >= 6) & \n",
    "                         (singlescooter_filter[\"mins_elapsed\"] <= 180)]"
   ]
  },
  {
   "cell_type": "code",
   "execution_count": 16,
   "metadata": {},
   "outputs": [
    {
     "data": {
      "text/plain": [
       "(2859, 12)"
      ]
     },
     "execution_count": 16,
     "metadata": {},
     "output_type": "execute_result"
    }
   ],
   "source": [
    "singlescooter.shape"
   ]
  },
  {
   "cell_type": "code",
   "execution_count": 15,
   "metadata": {},
   "outputs": [
    {
     "data": {
      "text/plain": [
       "(78, 14)"
      ]
     },
     "execution_count": 15,
     "metadata": {},
     "output_type": "execute_result"
    }
   ],
   "source": [
    "singlescooter_final.shape"
   ]
  },
  {
   "cell_type": "code",
   "execution_count": null,
   "metadata": {},
   "outputs": [],
   "source": []
  }
 ],
 "metadata": {
  "kernelspec": {
   "display_name": "Python 3",
   "language": "python",
   "name": "python3"
  },
  "language_info": {
   "codemirror_mode": {
    "name": "ipython",
    "version": 3
   },
   "file_extension": ".py",
   "mimetype": "text/x-python",
   "name": "python",
   "nbconvert_exporter": "python",
   "pygments_lexer": "ipython3",
   "version": "3.7.3"
  }
 },
 "nbformat": 4,
 "nbformat_minor": 2
}
